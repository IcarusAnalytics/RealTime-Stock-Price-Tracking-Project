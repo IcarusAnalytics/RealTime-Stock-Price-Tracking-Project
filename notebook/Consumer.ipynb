{
 "cells": [
  {
   "cell_type": "code",
   "execution_count": 5,
   "id": "6ee18262-35b2-4624-96d0-e33204a15301",
   "metadata": {},
   "outputs": [
    {
     "ename": "ModuleNotFoundError",
     "evalue": "No module named 'config'",
     "output_type": "error",
     "traceback": [
      "\u001b[1;31m---------------------------------------------------------------------------\u001b[0m",
      "\u001b[1;31mModuleNotFoundError\u001b[0m                       Traceback (most recent call last)",
      "Cell \u001b[1;32mIn[5], line 2\u001b[0m\n\u001b[0;32m      1\u001b[0m \u001b[38;5;28;01mfrom\u001b[39;00m \u001b[38;5;21;01mconfluent_kafka\u001b[39;00m \u001b[38;5;28;01mimport\u001b[39;00m Consumer, KafkaError\n\u001b[1;32m----> 2\u001b[0m \u001b[38;5;28;01mfrom\u001b[39;00m \u001b[38;5;21;01mconfig\u001b[39;00m \u001b[38;5;28;01mimport\u001b[39;00m KAFKA_BOOTSTRAP_SERVERS, KAFKA_TOPIC, API_KEY, API_SECRET\n\u001b[0;32m      3\u001b[0m \u001b[38;5;28;01mfrom\u001b[39;00m \u001b[38;5;21;01mqueue\u001b[39;00m \u001b[38;5;28;01mimport\u001b[39;00m Queue\n\u001b[0;32m      4\u001b[0m \u001b[38;5;28;01mimport\u001b[39;00m \u001b[38;5;21;01mlogging\u001b[39;00m\n",
      "\u001b[1;31mModuleNotFoundError\u001b[0m: No module named 'config'"
     ]
    }
   ],
   "source": [
    "from confluent_kafka import Consumer, KafkaError\n",
    "from config import KAFKA_BOOTSTRAP_SERVERS, KAFKA_TOPIC, API_KEY, API_SECRET\n",
    "from queue import Queue\n",
    "import logging"
   ]
  },
  {
   "cell_type": "code",
   "execution_count": 4,
   "id": "6372d95e-eea1-4d30-99a7-5104507ff03f",
   "metadata": {},
   "outputs": [],
   "source": [
    "# Initialize Kafka consumer\n",
    "consumer = Consumer({\n",
    "    'bootstrap.servers': KAFKA_BOOTSTRAP_SERVERS,\n",
    "    'sasl.mechanisms': 'PLAIN',\n",
    "    'security.protocol': 'SASL_SSL',\n",
    "    'sasl.username': API_KEY,\n",
    "    'sasl.password': API_SECRET,\n",
    "    'group.id': 'stock_price_group',\n",
    "    'auto.offset.reset': 'latest',\n",
    "})\n",
    "\n",
    "# Create a queue to pass data to the main thread\n",
    "kafka_data_queue = Queue()\n",
    "\n",
    "def consume_stock_prices():\n",
    "    consumer.subscribe([KAFKA_TOPIC])\n",
    "\n",
    "    while True:\n",
    "        msg = consumer.poll(1.0)\n",
    "\n",
    "        if msg is None:\n",
    "            continue\n",
    "        if msg.error():\n",
    "            if msg.error().code() == KafkaError._PARTITION_EOF:\n",
    "                continue\n",
    "            else:\n",
    "                logging.error(f'Error while consuming: {msg.error()}')\n",
    "        else:\n",
    "            # Parse the received message and put it in the queue\n",
    "            try:\n",
    "                value = msg.value().decode(\"utf-8\")\n",
    "                symbol, price = value.split(\":\")\n",
    "                kafka_data_queue.put({'symbol': symbol, 'price': float(price)})\n",
    "                print(f'Recieved {symbol} price: {price}')\n",
    "            except Exception as e:\n",
    "                logging.error(f'Error parsing message: {e}')\n",
    "\n",
    "# Function to start or stop data consumption\n",
    "def toggle_consumer(flag):\n",
    "    global consume_data\n",
    "    consume_data = flag"
   ]
  },
  {
   "cell_type": "code",
   "execution_count": null,
   "id": "2b1aca27-d6b8-4b93-b02b-deccfdeb97ff",
   "metadata": {},
   "outputs": [],
   "source": []
  }
 ],
 "metadata": {
  "kernelspec": {
   "display_name": "venv",
   "language": "python",
   "name": "venv"
  },
  "language_info": {
   "codemirror_mode": {
    "name": "ipython",
    "version": 3
   },
   "file_extension": ".py",
   "mimetype": "text/x-python",
   "name": "python",
   "nbconvert_exporter": "python",
   "pygments_lexer": "ipython3",
   "version": "3.8.0"
  }
 },
 "nbformat": 4,
 "nbformat_minor": 5
}
