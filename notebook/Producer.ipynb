{
 "cells": [
  {
   "cell_type": "code",
   "execution_count": 5,
   "id": "8c790529-3f1e-4ca4-83f5-926c0c5e7ea0",
   "metadata": {},
   "outputs": [
    {
     "ename": "ModuleNotFoundError",
     "evalue": "No module named 'config'",
     "output_type": "error",
     "traceback": [
      "\u001b[1;31m---------------------------------------------------------------------------\u001b[0m",
      "\u001b[1;31mModuleNotFoundError\u001b[0m                       Traceback (most recent call last)",
      "Cell \u001b[1;32mIn[5], line 3\u001b[0m\n\u001b[0;32m      1\u001b[0m \u001b[38;5;28;01mimport\u001b[39;00m \u001b[38;5;21;01myfinance\u001b[39;00m \u001b[38;5;28;01mas\u001b[39;00m \u001b[38;5;21;01myf\u001b[39;00m\n\u001b[0;32m      2\u001b[0m \u001b[38;5;28;01mfrom\u001b[39;00m \u001b[38;5;21;01mconfluent_kafka\u001b[39;00m \u001b[38;5;28;01mimport\u001b[39;00m Producer\n\u001b[1;32m----> 3\u001b[0m \u001b[38;5;28;01mfrom\u001b[39;00m \u001b[38;5;21;01mconfig\u001b[39;00m \u001b[38;5;28;01mimport\u001b[39;00m KAFKA_BOOTSTRAP_SERVERS, KAFKA_TOPIC, API_KEY, API_SECRET\n",
      "\u001b[1;31mModuleNotFoundError\u001b[0m: No module named 'config'"
     ]
    }
   ],
   "source": [
    "import yfinance as yf\n",
    "from confluent_kafka import Producer\n",
    "from config import KAFKA_BOOTSTRAP_SERVERS, KAFKA_TOPIC, API_KEY, API_SECRET"
   ]
  },
  {
   "cell_type": "code",
   "execution_count": 4,
   "id": "ef787883-13ab-4a8d-9642-b7bf73fa77d1",
   "metadata": {},
   "outputs": [],
   "source": [
    "# Initialize Kafka producer\n",
    "producer = Producer({\n",
    "    'bootstrap.servers': KAFKA_BOOTSTRAP_SERVERS,\n",
    "    'sasl.mechanisms': 'PLAIN',\n",
    "    'security.protocol': 'SASL_SSL',\n",
    "    'sasl.username': API_KEY,\n",
    "    'sasl.password': API_SECRET,\n",
    "})\n",
    "\n",
    "# Define a flag to control the producer thread\n",
    "produce_data = False\n",
    "\n",
    "historical_data = []\n",
    "\n",
    "def fetch_stock_price(symbol):\n",
    "    global produce_data, historical_data  # Access the global flags \n",
    "\n",
    "    while True:\n",
    "        try:\n",
    "            if produce_data:  # Check if we should produce data\n",
    "                stock = yf.Ticker(symbol)\n",
    "                price = stock.history(period='1m')['Close'].iloc[-1]\n",
    "                message = f'{symbol}:{price}'  # Combine symbol and price\n",
    "                producer.produce(KAFKA_TOPIC, value=message)\n",
    "                print(f'Sent {symbol} price: {price}')\n",
    "\n",
    "                # Append historical data\n",
    "                historical_data.append({'symbol': symbol, 'price': price})\n",
    "        except Exception as e:\n",
    "            print(f'Error sending data: {e}')\n",
    "\n",
    "# Function to start or stop data production\n",
    "def toggle_producer(flag):\n",
    "    global produce_data\n",
    "    produce_data = flag"
   ]
  },
  {
   "cell_type": "code",
   "execution_count": null,
   "id": "5de898ac-8530-4edc-80ce-f63b2beb308f",
   "metadata": {},
   "outputs": [],
   "source": []
  }
 ],
 "metadata": {
  "kernelspec": {
   "display_name": "venv",
   "language": "python",
   "name": "venv"
  },
  "language_info": {
   "codemirror_mode": {
    "name": "ipython",
    "version": 3
   },
   "file_extension": ".py",
   "mimetype": "text/x-python",
   "name": "python",
   "nbconvert_exporter": "python",
   "pygments_lexer": "ipython3",
   "version": "3.8.0"
  }
 },
 "nbformat": 4,
 "nbformat_minor": 5
}
